{
 "cells": [
  {
   "cell_type": "code",
   "execution_count": 1,
   "id": "77801768",
   "metadata": {},
   "outputs": [
    {
     "name": "stderr",
     "output_type": "stream",
     "text": [
      "C:\\Users\\nmasa\\AppData\\Local\\Temp/ipykernel_4340/1399112611.py:4: UserWarning: \n",
      "The dash_html_components package is deprecated. Please replace\n",
      "`import dash_html_components as html` with `from dash import html`\n",
      "  import dash_html_components as html\n",
      "C:\\Users\\nmasa\\AppData\\Local\\Temp/ipykernel_4340/1399112611.py:5: UserWarning: \n",
      "The dash_core_components package is deprecated. Please replace\n",
      "`import dash_core_components as dcc` with `from dash import dcc`\n",
      "  import dash_core_components as dcc\n"
     ]
    }
   ],
   "source": [
    "# Import required libraries\n",
    "import pandas as pd\n",
    "import dash\n",
    "import dash_html_components as html\n",
    "import dash_core_components as dcc\n",
    "from dash.dependencies import Input, Output\n",
    "import plotly.express as px"
   ]
  },
  {
   "cell_type": "code",
   "execution_count": 4,
   "id": "44379cba",
   "metadata": {},
   "outputs": [],
   "source": [
    "# Read the airline data into pandas dataframe\n",
    "spacex_df = pd.read_csv(\"https://cf-courses-data.s3.us.cloud-object-storage.appdomain.cloud/IBM-DS0321EN-SkillsNetwork/datasets/spacex_launch_dash.csv\")\n",
    "max_payload = spacex_df['Payload Mass (kg)'].max()\n",
    "min_payload = spacex_df['Payload Mass (kg)'].min()"
   ]
  },
  {
   "cell_type": "code",
   "execution_count": 5,
   "id": "455e29b8",
   "metadata": {},
   "outputs": [],
   "source": [
    "launch_sites = []\n",
    "launch_sites.append({'label': 'All Sites', 'value': 'All Sites'})\n",
    "all_launch_sites = spacex_df['Launch Site'].unique().tolist()\n",
    "for launch_site in all_launch_sites:\n",
    "    launch_sites.append({'label': launch_site, 'value': launch_site})"
   ]
  },
  {
   "cell_type": "code",
   "execution_count": 6,
   "id": "f4ce885d",
   "metadata": {},
   "outputs": [],
   "source": [
    "# Create a dash application\n",
    "app = dash.Dash(__name__)"
   ]
  },
  {
   "cell_type": "code",
   "execution_count": 8,
   "id": "697e85d8",
   "metadata": {},
   "outputs": [],
   "source": [
    "# Create an app layout\n",
    "app.layout = html.Div(children=[html.H1('SpaceX Launch Records Dashboard',\n",
    "                                        style={'textAlign': 'center', 'color': '#503D36',\n",
    "                                               'font-size': 40}),\n",
    "                                # TASK 1: Add a dropdown list to enable Launch Site selection\n",
    "                                # The default select value is for ALL sites\n",
    "                                # dcc.Dropdown(id='site-dropdown',...)\n",
    "                                html.Div([\n",
    "                                    dcc.Dropdown(\n",
    "                                        id = 'site-dropdown',\n",
    "                                        options = launch_sites,\n",
    "                                        placeholder = 'Select a Launch Site here',\n",
    "                                        searchable = True ,\n",
    "                                        clearable = False,\n",
    "                                        value = 'All Sites'\n",
    "                                        ),]),\n",
    "                                html.Br(),\n",
    "                                # TASK 2: Add a pie chart to show the total successful launches count for all sites\n",
    "                                # If a specific launch site was selected, show the Success vs. Failed counts for the site\n",
    "                                html.Div(dcc.Graph(id='success-pie-chart')),\n",
    "                                html.Br(),\n",
    "\n",
    "                                html.P(\"Payload range (Kg):\"),\n",
    "                                # TASK 3: Add a slider to select payload range\n",
    "                                #dcc.RangeSlider(id='payload-slider',...)\n",
    "                                html.Div([\n",
    "                                    dcc.RangeSlider(\n",
    "                                        id = 'payload_slider',\n",
    "                                        min = 0,\n",
    "                                        max = 10000,\n",
    "                                        step = 1000,\n",
    "                                        marks = {\n",
    "                                            0: {'label': '0 Kg', 'style': {'color': '#77b0b1'}},\n",
    "                                            1000: {'label': '1000 Kg'},\n",
    "                                            2000: {'label': '2000 Kg'},\n",
    "                                            3000: {'label': '3000 Kg'},\n",
    "                                            4000: {'label': '4000 Kg'},\n",
    "                                            5000: {'label': '5000 Kg'},\n",
    "                                            6000: {'label': '6000 Kg'},\n",
    "                                            7000: {'label': '7000 Kg'},\n",
    "                                            8000: {'label': '8000 Kg'},\n",
    "                                            9000: {'label': '9000 Kg'},\n",
    "                                            10000: {'label': '10000 Kg', 'style': {'color': '#f50'}},\n",
    "                                            },\n",
    "                                            value = [min_payload,max_payload]),\n",
    "                                            ]),\n",
    "\n",
    "                                # TASK 4: Add a scatter chart to show the correlation between payload and launch success\n",
    "                                html.Div(dcc.Graph(id='success-payload-scatter-chart')),\n",
    "                                ])\n",
    "# TASK 2:\n",
    "# Add a callback function for `site-dropdown` as input, `success-pie-chart` as output\n",
    "@app.callback(\n",
    "     Output(component_id = 'success-pie-chart', component_property = 'figure'),\n",
    "     [Input(component_id = 'site-dropdown', component_property = 'value')]\n",
    ")\n",
    "def update_piegraph(site_dropdown):\n",
    "    if (site_dropdown == 'All Sites' or site_dropdown == 'None'):\n",
    "        data  = spacex_df[spacex_df['class'] == 1] \n",
    "        fig = px.pie(\n",
    "                data,\n",
    "                names = 'Launch Site',\n",
    "                title = 'Total Success Launches by All Sites',\n",
    "            )\n",
    "    else:\n",
    "        data  = spacex_df.loc[spacex_df['Launch Site'] == site_dropdown]\n",
    "        fig = px.pie(\n",
    "                data,\n",
    "                names = 'class',\n",
    "                title = 'Total Success Launches for Site &#8608; '+site_dropdown,\n",
    "            )\n",
    "    return fig\n",
    "\n",
    "# TASK 4:\n",
    "# Add a callback function for `site-dropdown` and `payload-slider` as inputs, `success-payload-scatter-chart` as output\n",
    "@app.callback(\n",
    "     Output(component_id = 'success-payload-scatter-chart', component_property = 'figure'),\n",
    "     [Input(component_id = 'site-dropdown', component_property = 'value'), \n",
    "     Input(component_id = \"payload_slider\", component_property = \"value\")]\n",
    ")\n",
    "def update_scattergraph(site_dropdown,payload_slider):\n",
    "    if (site_dropdown == 'All Sites' or site_dropdown == 'None'):\n",
    "        low, high = payload_slider\n",
    "        data  = spacex_df\n",
    "        inrange = (data['Payload Mass (kg)'] > low) & (data['Payload Mass (kg)'] < high)\n",
    "        fig = px.scatter(\n",
    "                data[inrange], \n",
    "                x = \"Payload Mass (kg)\", \n",
    "                y = \"class\",\n",
    "                title = 'Correlation Between Payload and Success for All Sites',\n",
    "                color=\"Booster Version Category\",\n",
    "                size='Payload Mass (kg)',\n",
    "                hover_data=['Payload Mass (kg)']\n",
    "            )\n",
    "    else:\n",
    "        low, high = payload_slider\n",
    "        data  = spacex_df.loc[spacex_df['Launch Site'] == site_dropdown]\n",
    "        inrange = (data['Payload Mass (kg)'] > low) & (data['Payload Mass (kg)'] < high)\n",
    "        fig = px.scatter(\n",
    "                data[inrange],\n",
    "                x = \"Payload Mass (kg)\",\n",
    "                y = \"class\",\n",
    "                title = 'Correlation Between Payload and Success for Site &#8608; '+site_dropdown,\n",
    "                color=\"Booster Version Category\",\n",
    "                size='Payload Mass (kg)',\n",
    "                hover_data=['Payload Mass (kg)']\n",
    "            )\n",
    "    return fig"
   ]
  },
  {
   "cell_type": "code",
   "execution_count": 9,
   "id": "2bceb7dc",
   "metadata": {},
   "outputs": [
    {
     "data": {
      "text/html": [
       "\n",
       "        <iframe\n",
       "            width=\"100%\"\n",
       "            height=\"650\"\n",
       "            src=\"http://127.0.0.1:8050/\"\n",
       "            frameborder=\"0\"\n",
       "            allowfullscreen\n",
       "        ></iframe>\n",
       "        "
      ],
      "text/plain": [
       "<IPython.lib.display.IFrame at 0x264ef0e5a30>"
      ]
     },
     "metadata": {},
     "output_type": "display_data"
    },
    {
     "name": "stderr",
     "output_type": "stream",
     "text": [
      "C:\\Users\\nmasa\\miniconda3\\lib\\site-packages\\plotly\\express\\_core.py:1979: FutureWarning:\n",
      "\n",
      "When grouping with a length-1 list-like, you will need to pass a length-1 tuple to get_group in a future version of pandas. Pass `(name,)` instead of `name` to silence this warning.\n",
      "\n",
      "C:\\Users\\nmasa\\miniconda3\\lib\\site-packages\\plotly\\express\\_core.py:1979: FutureWarning:\n",
      "\n",
      "When grouping with a length-1 list-like, you will need to pass a length-1 tuple to get_group in a future version of pandas. Pass `(name,)` instead of `name` to silence this warning.\n",
      "\n",
      "C:\\Users\\nmasa\\miniconda3\\lib\\site-packages\\plotly\\express\\_core.py:1979: FutureWarning:\n",
      "\n",
      "When grouping with a length-1 list-like, you will need to pass a length-1 tuple to get_group in a future version of pandas. Pass `(name,)` instead of `name` to silence this warning.\n",
      "\n"
     ]
    }
   ],
   "source": [
    "# Run the app\n",
    "if __name__ == '__main__':\n",
    "    app.run_server()"
   ]
  },
  {
   "cell_type": "code",
   "execution_count": null,
   "id": "3d778840",
   "metadata": {},
   "outputs": [],
   "source": []
  }
 ],
 "metadata": {
  "kernelspec": {
   "display_name": "Python 3 (ipykernel)",
   "language": "python",
   "name": "python3"
  },
  "language_info": {
   "codemirror_mode": {
    "name": "ipython",
    "version": 3
   },
   "file_extension": ".py",
   "mimetype": "text/x-python",
   "name": "python",
   "nbconvert_exporter": "python",
   "pygments_lexer": "ipython3",
   "version": "3.9.12"
  }
 },
 "nbformat": 4,
 "nbformat_minor": 5
}
